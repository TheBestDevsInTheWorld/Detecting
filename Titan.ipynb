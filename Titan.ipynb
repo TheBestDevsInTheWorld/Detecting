{
 "cells": [
  {
   "cell_type": "code",
   "execution_count": 1,
   "id": "8ddd51cc",
   "metadata": {},
   "outputs": [],
   "source": [
    "import os\n",
    "import cv2\n",
    "import numpy as np\n",
    "import sys"
   ]
  },
  {
   "cell_type": "markdown",
   "id": "5b637319",
   "metadata": {},
   "source": [
    "#### Константы"
   ]
  },
  {
   "cell_type": "code",
   "execution_count": 2,
   "id": "d3498b1e",
   "metadata": {},
   "outputs": [],
   "source": [
    "IMAGE_SIZE = (500, 500)\n",
    "# Размер границ контура\n",
    "THRESHOLD_VALUE = 110\n",
    "MAX_VALUE = 255\n",
    "# Инверсия порога\n",
    "INV_THRESHOLD_VALUE = 50\n",
    "INV_MAX_VALUE = 255\n",
    "# Хитрые детали\n",
    "THRESHOLD1 = 100\n",
    "THRESHOLD2 = 70\n",
    "# Свойство контура\n",
    "CON_COLOR = (0, 0, 255)\n",
    "CON_THICKNESS = 1\n",
    "# Свойства стека изображений\n",
    "WHITE = (255, 255, 255)\n",
    "BLACK = (0, 0, 0)\n",
    "GREEN = (0, 255, 0)\n",
    "RED = (0, 0, 255)\n",
    "STACK_IMG_SIZE = (200, 200)"
   ]
  },
  {
   "cell_type": "markdown",
   "id": "de0b1053",
   "metadata": {},
   "source": [
    "#### Доступные изображения"
   ]
  },
  {
   "cell_type": "code",
   "execution_count": 3,
   "id": "19bdc228",
   "metadata": {
    "scrolled": false
   },
   "outputs": [
    {
     "name": "stdout",
     "output_type": "stream",
     "text": [
      "______________________________________\n",
      "             Изображения              \n",
      "______________________________________\n",
      "-> s1.jpg\t -> s10.jpg\t -> s2.jpg\t -> s3.jpg\t -> s4.jpg\t -> s5.jpg\t \n",
      "\n",
      "-> s6.jpg\t -> s7.jpg\t -> s8.jpg\t -> s9.jpg\t -> t1.jpg\t \n",
      "\n",
      "-> x1.jpeg\t -> x2.jpeg\t -> x3.jpeg\t -> x4.jpeg\t -> x5.jpeg\t \n",
      "\n"
     ]
    }
   ],
   "source": [
    "files = os.listdir('Data')\n",
    "print(\"______________________________________\")\n",
    "print(\"             Изображения              \")\n",
    "print(\"______________________________________\")\n",
    "for i in files:\n",
    "    print(f'-> {i}\\t ', end='')\n",
    "    if files.index(i) % 5 == 0 and files.index(i) != 0:\n",
    "        print('\\n')"
   ]
  },
  {
   "cell_type": "code",
   "execution_count": 4,
   "id": "0ba3d101",
   "metadata": {},
   "outputs": [
    {
     "data": {
      "text/plain": [
       "'C:\\\\Users\\\\User\\\\ML\\\\Предиктор\\\\Дефекты титана'"
      ]
     },
     "execution_count": 4,
     "metadata": {},
     "output_type": "execute_result"
    }
   ],
   "source": [
    "sys.path[0]"
   ]
  },
  {
   "cell_type": "code",
   "execution_count": 5,
   "id": "0e8b4b50",
   "metadata": {},
   "outputs": [],
   "source": [
    "# Выбираем файл\n",
    "file = 's1.jpg'\n",
    "PATH = 'Data/' + file"
   ]
  },
  {
   "cell_type": "code",
   "execution_count": 6,
   "id": "80b16be5",
   "metadata": {},
   "outputs": [],
   "source": [
    "# Чтение изображения и перевод в чб формат\n",
    "imageOri = cv2.imread(PATH)\n",
    "try:\n",
    "    image = cv2.cvtColor(imageOri, cv2.COLOR_BGR2GRAY)\n",
    "except:\n",
    "    print(\"Некорректный путь\")"
   ]
  },
  {
   "cell_type": "code",
   "execution_count": 7,
   "id": "464d2104",
   "metadata": {},
   "outputs": [],
   "source": [
    "# Изменение размера изображения\n",
    "image = cv2.resize(image, IMAGE_SIZE)\n",
    "imageOri = cv2.resize(imageOri, IMAGE_SIZE)\n",
    "image = cv2.GaussianBlur(image, (3, 3), 0)"
   ]
  },
  {
   "cell_type": "code",
   "execution_count": 8,
   "id": "e8c3d68e",
   "metadata": {},
   "outputs": [],
   "source": [
    "# Пороговое значение изображения, чтобы черные метки были черными на белом фоне.\n",
    "ret, thresh_basic = cv2.threshold(image, THRESHOLD_VALUE, MAX_VALUE, cv2.THRESH_BINARY)"
   ]
  },
  {
   "cell_type": "code",
   "execution_count": null,
   "id": "3f011df4",
   "metadata": {},
   "outputs": [],
   "source": []
  },
  {
   "cell_type": "code",
   "execution_count": null,
   "id": "57cfbcc2",
   "metadata": {},
   "outputs": [],
   "source": [
    "# Показ изображения с пороговым значением\n",
    "cv2.imshow(\"Thresh basic\", thresh_basic)"
   ]
  },
  {
   "cell_type": "code",
   "execution_count": null,
   "id": "8254b1b6",
   "metadata": {},
   "outputs": [],
   "source": [
    "# show thresholded image - DEBUGGING\n",
    "cv2.imshow(\"Thresh basic\", thresh_basic)\n",
    "#thresh_addapt = cv2.adaptiveThreshold(image, 255, cv2.ADAPTIVE_THRESH_GAUSSIAN_C, cv2.THRESH_BINARY, 115, 1)\n",
    "# cv2.imshow(\"Thresh Adapt\", thresh_addapt)\n",
    "# Taking a matrix of size 5 as the kernel\n",
    "kernel = np.ones((5, 5), np.uint8)\n",
    "# Morphological operations-Erodes away the boundaries of foreground object\n",
    "# Use morphology to clean up extraneous markings.\n",
    "img_erosion = cv2.erode(thresh_basic, kernel, iterations=1)\n",
    "#####################\n",
    "# The invert the thresholded image,\n",
    "# so that the black markings are white on a black background and then find the external contours of those.\n",
    "ret, thresh_inv = cv2.threshold(img_erosion, INV_THRESHOLD_VALUE, INV_MAX_VALUE, \n",
    "                                cv2.THRESH_BINARY_INV)\n",
    "# show inverted threshold image - DEBUGGING\n",
    "#cv2.imshow(\"INV\", thresh_inv)\n",
    "#####################\n",
    "# Find Canny edges\n",
    "edged = cv2.Canny(img_erosion, THRESHOLD1, THRESHOLD2)\n",
    "# show canny edges - DEBUGGING\n",
    "#cv2.imshow('Canny', edged)\n",
    "#cv2.waitKey(0)\n",
    "# Find Contours\n",
    "# findContours alters the image\n",
    "contours, hierarchy = cv2.findContours(thresh_inv, cv2.RETR_EXTERNAL, cv2.CHAIN_APPROX_NONE)\n",
    "# ++++++++++++++++++\n",
    "# -- Image Stack  --\n",
    "# ++++++++++++++++++\n",
    "font = cv2.FONT_HERSHEY_SIMPLEX\n",
    "imageRz = cv2.resize(image, STACK_IMG_SIZE)\n",
    "thresh_basicRz = cv2.resize(thresh_basic, STACK_IMG_SIZE)\n",
    "img_erosionRz = cv2.resize(img_erosion, STACK_IMG_SIZE)\n",
    "thresh_invRz = cv2.resize(thresh_inv, STACK_IMG_SIZE)\n",
    "edgedRz = cv2.resize(edged, STACK_IMG_SIZE)\n",
    "imageRz = cv2.putText(imageRz, 'GrayScale', (5, 15), font, 0.5, WHITE, 1, cv2.LINE_AA)\n",
    "thresh_basicRz = cv2.putText(thresh_basicRz, 'ThresholdBasic', (5, 15), font,\n",
    "                             0.5, WHITE, 1,cv2.LINE_AA)\n",
    "img_erosionRz = cv2.putText(img_erosionRz, 'Morphology-Erosion', (5, 15), font,\n",
    "                            0.5, WHITE, 1, cv2.LINE_AA)\n",
    "thresh_invRz = cv2.putText(thresh_invRz, 'Threshold-mode INV', (5, 15), font,\n",
    "                           0.5, BLACK, 1, cv2.LINE_AA)\n",
    "edgedRz = cv2.putText(edgedRz, 'Canny Edges', (5, 15), font, 0.5, WHITE, 1, cv2.LINE_AA)\n",
    "numpy_horizontal_concat = np.concatenate((imageRz, thresh_basicRz, img_erosionRz,\n",
    "                                          thresh_invRz, edgedRz), axis=1)\n",
    "cv2.imshow('Filtering...', numpy_horizontal_concat)\n",
    "# +++++++\n",
    "# get total contours\n",
    "num_of_con = str(len(contours) - 1)\n",
    "print(\"Number of Contours found = \" + num_of_con)\n",
    "if len(contours) > 1:\n",
    "    print('======================================')\n",
    "    print('=       MARKINGS DETECTED            =')\n",
    "    print('======================================\\n\\n')\n",
    "# show original img\n",
    "cv2.imshow('Original Image', imageOri)\n",
    "# draw contours on original img\n",
    "if int(num_of_con) != 0:\n",
    "    for i in range(int(num_of_con)):\n",
    "        highlighted_img = cv2.drawContours(imageOri, contours, i, CON_COLOR, CON_THICKNESS)\n",
    "    highlighted_img = cv2.putText(highlighted_img, 'Approximately {} defect(s) detected'.\n",
    "                                  format(num_of_con), (5, 15),\n",
    "                                  font, 0.5, GREEN, 1, cv2.LINE_AA)\n",
    "else:\n",
    "    highlighted_img = cv2.putText(imageOri, 'Unable to detect defects!',\n",
    "                                  (5, 15), font, 0.5, RED, 2, cv2.LINE_AA)\n",
    "# show markings highlighted img\n",
    "cv2.imshow('Highlighted Defect', highlighted_img)\n",
    "# save image containing highlighted defect\n",
    "cv2.imwrite('Output Images/{}_DEFECTS_HIGHLIGHTED.jpg'.format(file.split('.')[0]), highlighted_img)\n",
    "cv2.waitKey(0)\n",
    "cv2.destroyAllWindows()"
   ]
  }
 ],
 "metadata": {
  "kernelspec": {
   "display_name": "Python 3 (ipykernel)",
   "language": "python",
   "name": "python3"
  },
  "language_info": {
   "codemirror_mode": {
    "name": "ipython",
    "version": 3
   },
   "file_extension": ".py",
   "mimetype": "text/x-python",
   "name": "python",
   "nbconvert_exporter": "python",
   "pygments_lexer": "ipython3",
   "version": "3.10.6"
  }
 },
 "nbformat": 4,
 "nbformat_minor": 5
}
